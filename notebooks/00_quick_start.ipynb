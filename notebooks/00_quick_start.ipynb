{
 "cells": [
  {
   "cell_type": "markdown",
   "id": "594488fc",
   "metadata": {},
   "source": [
    "# Quick Start Guide - Order Reconstruction Challenge\n",
    "\n",
    "This notebook demonstrates how to use the order reconstruction pipeline.\n",
    "\n",
    "## What we'll cover:\n",
    "1. Loading data with `DataLoader`\n",
    "2. Exploring the data structure\n",
    "3. Extracting features with `FeatureExtractor`\n",
    "4. Using the `SignalProcessingAlgorithm`\n",
    "5. Running the full pipeline"
   ]
  },
  {
   "cell_type": "markdown",
   "id": "0c927a62",
   "metadata": {},
   "source": [
    "## 1. Setup and Imports"
   ]
  },
  {
   "cell_type": "markdown",
   "id": "f4f196bd",
   "metadata": {},
   "source": [
    "## 2. Load Data\n",
    "\n",
    "Let's start by loading a small subset of the data files to explore."
   ]
  },
  {
   "cell_type": "markdown",
   "id": "e544051e",
   "metadata": {},
   "source": [
    "## 3. Explore Data Structure\n",
    "\n",
    "Let's look at what's in a single file."
   ]
  },
  {
   "cell_type": "markdown",
   "id": "8268f0a3",
   "metadata": {},
   "source": [
    "### Visualize acceleration signal"
   ]
  },
  {
   "cell_type": "markdown",
   "id": "9e996301",
   "metadata": {},
   "source": [
    "## 4. Extract Features\n",
    "\n",
    "Now let's extract features from all loaded files using the `FeatureExtractor`."
   ]
  },
  {
   "cell_type": "markdown",
   "id": "83744e7e",
   "metadata": {},
   "source": [
    "## 5. Using the SignalProcessingAlgorithm\n",
    "\n",
    "Now let's use the full algorithm to predict the order."
   ]
  },
  {
   "cell_type": "markdown",
   "id": "f9e6a2fa",
   "metadata": {},
   "source": [
    "### Visualize feature trends over predicted order"
   ]
  },
  {
   "cell_type": "markdown",
   "id": "b93b5146",
   "metadata": {},
   "source": [
    "## 6. Running the Full Pipeline\n",
    "\n",
    "Instead of running code manually in notebooks, you can use the main pipeline script:\n",
    "\n",
    "```bash\n",
    "# Edit src/config.py to configure your experiment\n",
    "# Then run:\n",
    "python -m src.main\n",
    "```\n",
    "\n",
    "This will:\n",
    "1. Load all data files\n",
    "2. Preprocess according to config\n",
    "3. Run the selected algorithm\n",
    "4. Save results to `results/<experiment_name>/`\n",
    "\n",
    "## Next Steps\n",
    "\n",
    "1. **Explore more features**: Check `src/feature_extractor.py` for all available features\n",
    "2. **Try different algorithms**: Create your own algorithm class inheriting from `BaseAlgorithm`\n",
    "3. **Tune parameters**: Adjust `src/config.py` for different preprocessing and algorithm settings\n",
    "4. **Full dataset**: Remove the `limit` parameter in `load_all()` to process all files\n",
    "5. **Evaluate**: If you have the true order, use `OrderInference.compute_spearman_footrule()` to score your prediction"
   ]
  },
  {
   "cell_type": "code",
   "execution_count": null,
   "id": "312cf246",
   "metadata": {},
   "outputs": [],
   "source": [
    "# Reorder features by predicted chronological order\n",
    "ordered_features = features.loc[predicted_order]\n",
    "\n",
    "# Plot a few key features\n",
    "fig, axes = plt.subplots(2, 2, figsize=(15, 10))\n",
    "\n",
    "features_to_plot = ['rms', 'kurtosis', 'spectral_energy', 'peak_frequency']\n",
    "\n",
    "for idx, feature_name in enumerate(features_to_plot):\n",
    "    ax = axes[idx // 2, idx % 2]\n",
    "    values = ordered_features[feature_name].values\n",
    "    \n",
    "    ax.plot(values, marker='o', markersize=8, linewidth=2)\n",
    "    ax.set_title(f'{feature_name} over Time', fontsize=14, fontweight='bold')\n",
    "    ax.set_xlabel('Predicted Chronological Position', fontsize=12)\n",
    "    ax.set_ylabel('Feature Value', fontsize=12)\n",
    "    ax.grid(True, alpha=0.3)\n",
    "    \n",
    "plt.tight_layout()\n",
    "plt.show()"
   ]
  },
  {
   "cell_type": "code",
   "execution_count": null,
   "id": "46ea54d1",
   "metadata": {},
   "outputs": [],
   "source": [
    "# Configure the algorithm\n",
    "algo_config = {\n",
    "    'sampling_rate': config.DATASET_CONFIG['sampling_rate'],\n",
    "    'frequency_bands': config.DATASET_CONFIG['fault_band_centers'],\n",
    "    'features': ['rms', 'kurtosis', 'spectral_energy']\n",
    "}\n",
    "\n",
    "# Initialize algorithm\n",
    "algorithm = SignalProcessingAlgorithm(algo_config)\n",
    "\n",
    "# Run the algorithm\n",
    "predicted_order, features = algorithm.run(data)\n",
    "\n",
    "print(f\"\\nPredicted chronological order: {predicted_order}\")\n",
    "print(f\"\\nThis means:\")\n",
    "for i, file_id in enumerate(predicted_order):\n",
    "    print(f\"  Position {i+1}: file_{file_id}.csv\")"
   ]
  },
  {
   "cell_type": "code",
   "execution_count": null,
   "id": "2c5ae84b",
   "metadata": {},
   "outputs": [],
   "source": [
    "# Initialize feature extractor\n",
    "feature_extractor = FeatureExtractor(sampling_rate=config.DATASET_CONFIG['sampling_rate'])\n",
    "\n",
    "# Extract features from all files\n",
    "features = feature_extractor.extract_features_from_all(\n",
    "    data,\n",
    "    fault_bands=config.DATASET_CONFIG['fault_band_centers']\n",
    ")\n",
    "\n",
    "print(f\"Extracted features shape: {features.shape}\")\n",
    "print(f\"\\nFeature names:\")\n",
    "for i, col in enumerate(features.columns, 1):\n",
    "    print(f\"  {i}. {col}\")\n",
    "\n",
    "print(f\"\\nFeatures DataFrame:\")\n",
    "display(features)"
   ]
  },
  {
   "cell_type": "code",
   "execution_count": null,
   "id": "4e5257c5",
   "metadata": {},
   "outputs": [],
   "source": [
    "# Plot first 10000 samples\n",
    "plt.figure(figsize=(15, 5))\n",
    "plt.plot(first_file['acceleration'][:10000])\n",
    "plt.title(f'Acceleration Signal - file_{first_file_id}.csv (first 10k samples)')\n",
    "plt.xlabel('Sample')\n",
    "plt.ylabel('Acceleration')\n",
    "plt.grid(True, alpha=0.3)\n",
    "plt.show()"
   ]
  },
  {
   "cell_type": "code",
   "execution_count": null,
   "id": "55a09b0f",
   "metadata": {},
   "outputs": [],
   "source": [
    "# Get first file\n",
    "first_file_id = list(data.keys())[0]\n",
    "first_file = data[first_file_id]\n",
    "\n",
    "print(f\"File: file_{first_file_id}.csv\")\n",
    "print(f\"Shape: {first_file.shape}\")\n",
    "print(f\"\\nColumns: {first_file.columns.tolist()}\")\n",
    "print(f\"\\nFirst few rows:\")\n",
    "display(first_file.head())\n",
    "\n",
    "print(f\"\\nBasic statistics:\")\n",
    "display(first_file.describe())"
   ]
  },
  {
   "cell_type": "code",
   "execution_count": null,
   "id": "376e0706",
   "metadata": {},
   "outputs": [],
   "source": [
    "# Initialize data loader\n",
    "data_loader = DataLoader(config.DATA_DIR)\n",
    "\n",
    "# Load first 5 files for quick exploration\n",
    "print(\"Loading sample files...\")\n",
    "data = data_loader.load_all(limit=5)\n",
    "\n",
    "print(f\"\\nLoaded {len(data)} files\")\n",
    "print(f\"File IDs: {list(data.keys())}\")"
   ]
  },
  {
   "cell_type": "code",
   "execution_count": null,
   "id": "269962a9",
   "metadata": {},
   "outputs": [],
   "source": [
    "import sys\n",
    "from pathlib import Path\n",
    "\n",
    "# Add parent directory to path so we can import src modules\n",
    "sys.path.insert(0, str(Path.cwd().parent))\n",
    "\n",
    "# Import our modules\n",
    "from src.data_loader import DataLoader\n",
    "from src.preprocessor import Preprocessor\n",
    "from src.feature_extractor import FeatureExtractor\n",
    "from src.algorithms.signal_processing import SignalProcessingAlgorithm\n",
    "from src import config\n",
    "\n",
    "# Standard libraries\n",
    "import pandas as pd\n",
    "import numpy as np\n",
    "import matplotlib.pyplot as plt\n",
    "import seaborn as sns\n",
    "\n",
    "# Visualization settings\n",
    "sns.set_style('whitegrid')\n",
    "plt.rcParams['figure.figsize'] = (12, 6)\n",
    "\n",
    "print(\"✓ Imports successful!\")"
   ]
  }
 ],
 "metadata": {
  "language_info": {
   "name": "python"
  }
 },
 "nbformat": 4,
 "nbformat_minor": 5
}
